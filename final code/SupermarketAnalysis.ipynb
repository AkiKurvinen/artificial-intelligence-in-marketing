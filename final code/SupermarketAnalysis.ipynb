{
 "cells": [
  {
   "cell_type": "code",
   "execution_count": 4,
   "id": "a4fbac77-5a4d-43f0-9ac7-cda10f306416",
   "metadata": {},
   "outputs": [],
   "source": [
    "import numpy as np\n",
    "import pandas as pd\n",
    "from efficient_apriori import apriori\n",
    "\n",
    "# ladataan aineisto\n",
    "df = pd.read_csv(\"supermarket.csv\")\n",
    "\n",
    "transactions = []\n",
    "# ryhmitellään tuotteet ostotapahtumien kanssa\n",
    "for i in range(0, len(df['id']) - 1):\n",
    "    row = []\n",
    "    for (columnName, columnData) in df.iteritems():\n",
    "        if columnData[i] == 't':\n",
    "            row.append(columnName)\n",
    "    transactions.append(row)\n",
    "\n",
    "# luodaan säännöt\n",
    "itemsets, rules = apriori(transactions, min_support=0.05, min_confidence=0.6)\n",
    "\n",
    "item = []\n",
    "related = []\n",
    "confidence = []\n",
    "lift = []\n",
    "\n",
    "# tallennetaan säännöt uudelleen hyödynnettävään csv tiedostoon\n",
    "# otetaan vain positiivisen yhteyden omaavat\n",
    "for rule in rules:\n",
    "    listItems = list(rule.lhs)\n",
    "    relatedItems = list(rule.rhs)\n",
    "    if rule.lift > 1:\n",
    "        item.append(\",\".join(listItems))     \n",
    "        related.append(\",\".join(relatedItems))\n",
    "        confidence.append(rule.confidence)\n",
    "        lift.append(rule.lift)\n",
    "df2 = pd.DataFrame({'item': item, 'related': related, 'confidence': confidence, 'lift': lift})\n",
    "df2.to_csv('allRulesFiltered3.csv')"
   ]
  },
  {
   "cell_type": "code",
   "execution_count": null,
   "id": "15f92f24-b522-497f-ae72-2c93d4f5f2e9",
   "metadata": {},
   "outputs": [],
   "source": []
  }
 ],
 "metadata": {
  "kernelspec": {
   "display_name": "Python 3 (ipykernel)",
   "language": "python",
   "name": "python3"
  },
  "language_info": {
   "codemirror_mode": {
    "name": "ipython",
    "version": 3
   },
   "file_extension": ".py",
   "mimetype": "text/x-python",
   "name": "python",
   "nbconvert_exporter": "python",
   "pygments_lexer": "ipython3",
   "version": "3.8.8"
  }
 },
 "nbformat": 4,
 "nbformat_minor": 5
}
