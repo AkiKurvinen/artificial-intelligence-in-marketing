{
 "cells": [
  {
   "cell_type": "code",
   "execution_count": 15,
   "id": "b4b2a920-3604-4544-a367-3e8b2d63f1da",
   "metadata": {},
   "outputs": [],
   "source": [
    "import numpy as np\n",
    "import pandas as pd\n",
    "import json\n",
    "\n",
    "df = pd.read_csv(\"allRulesFiltered.csv\")\n",
    "\n",
    "transactions = []\n",
    "jsonStr = json.loads('{\"' + df['item'][0] + '\" : ' + '[]}')\n",
    "\n",
    "previous =  df['item'][0]\n",
    "for i in range(0, len(df['id']) - 1):\n",
    "    if previous != df['item'][i]:\n",
    "        newJson = {previous : transactions}\n",
    "        jsonStr.update(newJson)\n",
    "        previous = df['item'][i]\n",
    "        transactions = []\n",
    "    transactions.append(df['related'][i])   \n",
    "                         \n",
    "with open('rulesjson.json', 'w') as outfile:\n",
    "    json.dump(jsonStr, outfile)"
   ]
  },
  {
   "cell_type": "code",
   "execution_count": null,
   "id": "c396bcfe-5647-43a1-966a-1b72ad5f5d67",
   "metadata": {},
   "outputs": [],
   "source": []
  }
 ],
 "metadata": {
  "kernelspec": {
   "display_name": "Python 3 (ipykernel)",
   "language": "python",
   "name": "python3"
  },
  "language_info": {
   "codemirror_mode": {
    "name": "ipython",
    "version": 3
   },
   "file_extension": ".py",
   "mimetype": "text/x-python",
   "name": "python",
   "nbconvert_exporter": "python",
   "pygments_lexer": "ipython3",
   "version": "3.8.8"
  }
 },
 "nbformat": 4,
 "nbformat_minor": 5
}
