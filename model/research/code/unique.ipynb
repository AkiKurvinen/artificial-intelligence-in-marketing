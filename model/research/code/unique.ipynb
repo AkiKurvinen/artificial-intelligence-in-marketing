{
 "cells": [
  {
   "cell_type": "code",
   "execution_count": 3,
   "id": "2475c149-5c94-4bb8-8c6d-f696320d6b0d",
   "metadata": {},
   "outputs": [],
   "source": [
    "import numpy as np\n",
    "import pandas as pd\n",
    "from efficient_apriori import apriori\n",
    "\n",
    "# ladataan aineisto\n",
    "df = pd.read_csv(\"groceries - groceries.csv\")\n",
    "df.drop('Item(s)', axis=1, inplace=True)\n",
    "\n",
    "\n",
    "transactions = []\n",
    "# ryhmitellään tuotteet ostotapahtumien kanssa\n",
    "for i in range(0, 9835):\n",
    "    for (columnName, columnData) in df.iteritems():\n",
    "        if pd.isna(columnData[i]) == False:\n",
    "            transactions.append(columnData[i])\n",
    "        else:\n",
    "            break \n",
    "df2 = pd.DataFrame({'Items': np.unique(transactions)})\n",
    "df2.to_csv('finalItemsList.csv')"
   ]
  },
  {
   "cell_type": "code",
   "execution_count": null,
   "id": "134f80f5-7d55-4ef4-85c4-7589f3ec4286",
   "metadata": {},
   "outputs": [],
   "source": []
  }
 ],
 "metadata": {
  "kernelspec": {
   "display_name": "Python 3 (ipykernel)",
   "language": "python",
   "name": "python3"
  },
  "language_info": {
   "codemirror_mode": {
    "name": "ipython",
    "version": 3
   },
   "file_extension": ".py",
   "mimetype": "text/x-python",
   "name": "python",
   "nbconvert_exporter": "python",
   "pygments_lexer": "ipython3",
   "version": "3.8.8"
  }
 },
 "nbformat": 4,
 "nbformat_minor": 5
}
