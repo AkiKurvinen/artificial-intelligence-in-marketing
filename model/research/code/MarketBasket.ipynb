{
 "cells": [
  {
   "cell_type": "code",
   "execution_count": 25,
   "id": "29b3bd2c-a9ff-4267-b03f-67ae2d774247",
   "metadata": {},
   "outputs": [
    {
     "name": "stdout",
     "output_type": "stream",
     "text": [
      "file done!\n"
     ]
    }
   ],
   "source": [
    "import pandas as pd\n",
    "import numpy as np\n",
    "from sklearn import model_selection\n",
    "from sklearn.preprocessing import StandardScaler, LabelEncoder\n",
    "from sklearn.metrics import confusion_matrix, classification_report\n",
    "from sklearn.model_selection import train_test_split\n",
    "from sklearn.ensemble import RandomForestClassifier\n",
    "from collections import Counter\n",
    "from apyori import apriori\n",
    "import time\n",
    "\n",
    "# ladataan aineisto\n",
    "df = pd.read_csv(\"Groceries_dataset.csv\")\n",
    "\n",
    "transactions = []\n",
    "\n",
    "for i in range(0, 38765):\n",
    "    transactions.append([str(df.values[i,j]) for j in range(0, 3)])\n",
    "\n",
    "df2 = pd.DataFrame()\n",
    "df2['groups'] = pd.Series(transactions)\n",
    "df2.to_csv(\"GroupedGroceries.csv\")\n",
    "print('file done!')\n",
    "\n",
    "output_DataFrame = pd.DataFrame(inspect(output), columns = ['Left_Hand_Side', 'Right_Hand_Side', 'Support', 'Confidence', 'Lift'])\n",
    "\n",
    "freqItemSet, rules = apriori(transactions = transactions, min_support = 0.003, min_confidence = 0.2, min_lift = 3, min_length = 2, max_length = 2)\n",
    "print(rules)\n",
    "output = list(model)\n",
    "\n",
    "def inspect(output):\n",
    "    lhs         = [tuple(result[2][0][0])[0] for result in output]\n",
    "    rhs         = [tuple(result[2][0][1])[0] for result in output]\n",
    "    support    = [result[1] for result in output]\n",
    "    confidence = [result[2][0][2] for result in output]\n",
    "    lift       = [result[2][0][3] for result in output]\n",
    "    return list(zip(lhs, rhs, support, confidence, lift))\n",
    "\n",
    "df2 = pd.DataFrame()\n",
    "df2['Items'] = pd.Series(df.itemDescription.unique())\n",
    "\n",
    "\n",
    "\n"
   ]
  },
  {
   "cell_type": "code",
   "execution_count": null,
   "id": "b818519b-1b66-4594-b06b-f9b2fb9e9f15",
   "metadata": {
    "tags": []
   },
   "outputs": [],
   "source": []
  }
 ],
 "metadata": {
  "kernelspec": {
   "display_name": "Python 3 (ipykernel)",
   "language": "python",
   "name": "python3"
  },
  "language_info": {
   "codemirror_mode": {
    "name": "ipython",
    "version": 3
   },
   "file_extension": ".py",
   "mimetype": "text/x-python",
   "name": "python",
   "nbconvert_exporter": "python",
   "pygments_lexer": "ipython3",
   "version": "3.8.8"
  }
 },
 "nbformat": 4,
 "nbformat_minor": 5
}
