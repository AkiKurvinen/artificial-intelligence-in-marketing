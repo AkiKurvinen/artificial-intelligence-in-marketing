{
 "cells": [
  {
   "cell_type": "code",
   "execution_count": 13,
   "id": "da33abf6-b0b0-4c7d-b111-9be8173d3ce9",
   "metadata": {},
   "outputs": [],
   "source": [
    "import numpy as np\n",
    "import pandas as pd\n",
    "from efficient_apriori import apriori\n",
    "\n",
    "# ladataan aineisto\n",
    "df = pd.read_csv(\"deleteRows.csv\")\n",
    "df2 = pd.read_csv(\"Groceries_cleaned.csv\")\n",
    "\n",
    "items = []\n",
    "invoices = []\n",
    "\n",
    "for row in df['delete']:\n",
    "    df2.drop(df2.index[df2['itemDescription'] == row], inplace=True)\n",
    "\n",
    "for value in df2['itemDescription']:\n",
    "    items.append(value)\n",
    "\n",
    "for value in df2['InvoiceNum']:\n",
    "    invoices.append(value)\n",
    "\n",
    "df3 = pd.DataFrame({'itemDescription': items, 'InvoiceNum': invoices})\n",
    "df3.to_csv(\"Groceries_cleaned_final.csv\")"
   ]
  },
  {
   "cell_type": "code",
   "execution_count": null,
   "id": "c6885b33-0bfb-4d71-b421-52b54fbe167a",
   "metadata": {},
   "outputs": [],
   "source": []
  },
  {
   "cell_type": "code",
   "execution_count": null,
   "id": "8d1e1ef5-68d7-4351-bad6-ed0179d62d91",
   "metadata": {},
   "outputs": [],
   "source": []
  }
 ],
 "metadata": {
  "kernelspec": {
   "display_name": "Python 3 (ipykernel)",
   "language": "python",
   "name": "python3"
  },
  "language_info": {
   "codemirror_mode": {
    "name": "ipython",
    "version": 3
   },
   "file_extension": ".py",
   "mimetype": "text/x-python",
   "name": "python",
   "nbconvert_exporter": "python",
   "pygments_lexer": "ipython3",
   "version": "3.8.8"
  }
 },
 "nbformat": 4,
 "nbformat_minor": 5
}
