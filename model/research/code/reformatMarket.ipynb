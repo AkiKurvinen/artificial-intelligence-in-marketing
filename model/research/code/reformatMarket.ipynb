{
 "cells": [
  {
   "cell_type": "code",
   "execution_count": 2,
   "id": "7cf4a17f-6069-43de-b017-16fb51756404",
   "metadata": {},
   "outputs": [],
   "source": [
    "import numpy as np\n",
    "import pandas as pd\n",
    "from efficient_apriori import apriori\n",
    "\n",
    "# ladataan aineisto\n",
    "df = pd.read_csv(\"supermarket.csv\")\n",
    "\n",
    "transactions = []\n",
    "# ryhmitellään tuotteet ostotapahtumien kanssa\n",
    "for i in range(0, len(df['id']) - 1):\n",
    "    row = []\n",
    "    for (columnName, columnData) in df.iteritems():\n",
    "        if columnData[i] == 't':\n",
    "            row.append(columnName)\n",
    "    transactions.append(row)\n",
    "df2 = pd.DataFrame({'Items': transactions})\n",
    "df2.to_csv('supermarketSimple.csv')"
   ]
  },
  {
   "cell_type": "code",
   "execution_count": null,
   "id": "d1cb39d7-ae8c-497d-99e1-e43bba9b9aec",
   "metadata": {},
   "outputs": [],
   "source": []
  }
 ],
 "metadata": {
  "kernelspec": {
   "display_name": "Python 3 (ipykernel)",
   "language": "python",
   "name": "python3"
  },
  "language_info": {
   "codemirror_mode": {
    "name": "ipython",
    "version": 3
   },
   "file_extension": ".py",
   "mimetype": "text/x-python",
   "name": "python",
   "nbconvert_exporter": "python",
   "pygments_lexer": "ipython3",
   "version": "3.8.8"
  }
 },
 "nbformat": 4,
 "nbformat_minor": 5
}
