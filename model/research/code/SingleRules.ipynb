{
 "cells": [
  {
   "cell_type": "code",
   "execution_count": 10,
   "id": "97ad6354-91f7-4365-a7a6-45146f67d374",
   "metadata": {},
   "outputs": [],
   "source": [
    "import numpy as np\n",
    "import pandas as pd\n",
    "\n",
    "# ladataan aineisto\n",
    "df = pd.read_csv(\"allRulesFiltered.csv\")\n",
    "\n",
    "df2 = pd.DataFrame({\n",
    "    'id': [],\n",
    "    'item': [],\n",
    "    'related': [],\n",
    "    'confidence': [],\n",
    "    'lift': []\n",
    "})\n",
    "\n",
    "previous = \"\"\n",
    "\n",
    "for i in range(0, len(df['id']) - 1):\n",
    "    if previous != df['item'][i]:\n",
    "        previous = df['item'][i]\n",
    "        df2 = df2.append(\n",
    "            {\n",
    "                'id': df['id'][i],\n",
    "                'item': df['item'][i],\n",
    "                'related': df['related'][i],\n",
    "                'confidence': df['confidence'][i],\n",
    "                'lift': df['lift'][i]\n",
    "            }, ignore_index=True)\n",
    "\n",
    "df2.to_csv(\"singleRules.csv\")"
   ]
  },
  {
   "cell_type": "code",
   "execution_count": null,
   "id": "35b42b70-cc82-4af4-8602-9327cc529a7a",
   "metadata": {},
   "outputs": [],
   "source": []
  }
 ],
 "metadata": {
  "kernelspec": {
   "display_name": "Python 3 (ipykernel)",
   "language": "python",
   "name": "python3"
  },
  "language_info": {
   "codemirror_mode": {
    "name": "ipython",
    "version": 3
   },
   "file_extension": ".py",
   "mimetype": "text/x-python",
   "name": "python",
   "nbconvert_exporter": "python",
   "pygments_lexer": "ipython3",
   "version": "3.8.8"
  }
 },
 "nbformat": 4,
 "nbformat_minor": 5
}
