{
 "cells": [
  {
   "cell_type": "code",
   "execution_count": 14,
   "id": "bae5e31e-63a0-48aa-a756-54908dca11f7",
   "metadata": {},
   "outputs": [],
   "source": [
    "import pandas as pd\n",
    "import numpy as np\n",
    "from sklearn import model_selection\n",
    "from sklearn.preprocessing import StandardScaler, LabelEncoder\n",
    "from sklearn.metrics import confusion_matrix, classification_report\n",
    "from sklearn.model_selection import train_test_split\n",
    "from sklearn.ensemble import RandomForestClassifier\n",
    "from collections import Counter\n",
    "from apyori import apriori\n",
    "import time\n",
    "\n",
    "# ladataan aineisto\n",
    "df = pd.read_csv(\"Groceries_cleaned.csv\")\n",
    "\n",
    "items = []\n",
    "quantities = []\n",
    "quantity = 1\n",
    "invoice= []\n",
    "previous = ''\n",
    "for i in range(1, 14963):\n",
    "    data = df[df['InvoiceNum'] == i]['itemDescription']\n",
    "    for j in data:\n",
    "        if previous == j:\n",
    "            quantity += 1\n",
    "            quantities[len(quantities) - 1] = quantity\n",
    "        else:\n",
    "            quantity = 1\n",
    "            items.append(j)\n",
    "            quantities.append(quantity)\n",
    "            invoice.append(i)\n",
    "            previous = j\n",
    "\n",
    "df2 = pd.DataFrame({'itemDescription': items, 'InvoiceNum': invoice, 'Quantity': quantities})\n",
    "df2.to_csv('Groceries_cleaned2.csv')"
   ]
  },
  {
   "cell_type": "code",
   "execution_count": null,
   "id": "a6b6b083-26c1-420e-a54b-c293569a1506",
   "metadata": {},
   "outputs": [],
   "source": []
  }
 ],
 "metadata": {
  "kernelspec": {
   "display_name": "Python 3 (ipykernel)",
   "language": "python",
   "name": "python3"
  },
  "language_info": {
   "codemirror_mode": {
    "name": "ipython",
    "version": 3
   },
   "file_extension": ".py",
   "mimetype": "text/x-python",
   "name": "python",
   "nbconvert_exporter": "python",
   "pygments_lexer": "ipython3",
   "version": "3.8.8"
  }
 },
 "nbformat": 4,
 "nbformat_minor": 5
}
