{
 "cells": [
  {
   "cell_type": "code",
   "execution_count": 19,
   "id": "1439a3eb-7120-4bcd-b7a8-c809df124864",
   "metadata": {},
   "outputs": [],
   "source": [
    "import numpy as np\n",
    "import pandas as pd\n",
    "from efficient_apriori import apriori\n",
    "\n",
    "# ladataan aineisto\n",
    "df = pd.read_csv(\"groceries - groceries.csv\")\n",
    "df.drop('Item(s)', axis=1, inplace=True)\n",
    "\n",
    "\n",
    "transactions = []\n",
    "# ryhmitellään tuotteet ostotapahtumien kanssa\n",
    "for i in range(0, 9835):\n",
    "    row = []\n",
    "    for (columnName, columnData) in df.iteritems():\n",
    "        if pd.isna(columnData[i]) == False:\n",
    "            row.append(columnData[i])\n",
    "        else:\n",
    "            break\n",
    "    transactions.append(row)\n",
    "    \n",
    "# Tehdään apriori malli\n",
    "itemsets, rules = apriori(transactions, min_support=0.005, min_confidence=0)\n",
    "#data = [dict(**rule.__dict__, confidence=rule.confidence, support=rule.support) for rule in rules]\n",
    "item = []\n",
    "related = []\n",
    "confidence = []\n",
    "lift = []\n",
    "for rule in rules:\n",
    "    listItems = list(rule.lhs)\n",
    "    if len(listItems) == 1:\n",
    "        item.append(listItems)     \n",
    "        related.append(list(rule.rhs))\n",
    "        confidence.append(rule.confidence)\n",
    "        lift.append(rule.lift)\n",
    "df2 = pd.DataFrame({'item': item, 'related': related, 'confidence': confidence, 'lift': lift})\n",
    "df2.to_csv('rules.csv')"
   ]
  },
  {
   "cell_type": "code",
   "execution_count": null,
   "id": "76c36ec2-5f6e-4f23-954c-b43edd3bffea",
   "metadata": {},
   "outputs": [],
   "source": []
  }
 ],
 "metadata": {
  "kernelspec": {
   "display_name": "Python 3 (ipykernel)",
   "language": "python",
   "name": "python3"
  },
  "language_info": {
   "codemirror_mode": {
    "name": "ipython",
    "version": 3
   },
   "file_extension": ".py",
   "mimetype": "text/x-python",
   "name": "python",
   "nbconvert_exporter": "python",
   "pygments_lexer": "ipython3",
   "version": "3.8.8"
  }
 },
 "nbformat": 4,
 "nbformat_minor": 5
}
